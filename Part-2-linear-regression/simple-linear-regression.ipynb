{
 "cells": [
  {
   "attachments": {},
   "cell_type": "markdown",
   "metadata": {},
   "source": [
    "## Simple Linear Regression\n",
    "\n",
    "**Business Problem**: In this series we are going to learn about Simple Linear Regression. We will review a data set about `Salary` and `Experience in age`  . As a data scienctist, your job is to help the HR deaprtment  predict the salary of a person based on his years of experience, if he or she accepts the job offer. If you offer too low, the person will not accept the job offer. If you offer to high, then you will be wating company's resources($$).\n",
    "\n",
    "### Getting the dataset\n",
    "[Simple Regression](http://www.superdatascience.com/wp-content/uploads/2017/02/Simple_Linear_Regression.zip)\n",
    "\n",
    "\n",
    "### What is Simple Linear regression?\n",
    "![slr-intro.PNG](slr-intro.PNG)\n",
    "\n",
    "If we draw a graph of `salary` vs `Experience`, you will see a linear trend.\n",
    "![linearGraph](linearGraph.PNG)\n",
    "\n",
    "Based on the graph, it is clear that this is a positive slope. If the co-effiecinet `b1` is big, the slope is going to steeper, which means that if there is small increase in the age, then there will be a big increase in the salary. If the value of `b1` is small, the slope is going to be more gentle and with change is experience, the salary is going to increase gently."
   ]
  },
  {
   "cell_type": "markdown",
   "metadata": {},
   "source": [
    "### How is a trendline determined by a model?\n",
    "The model tries to find the trendline by determining the least of `Sum of errors`. In the below diagram, imagine the `red cross` as observed value and `green cross` as determined value(model prediction). The algorithm finds the difference between the and squares them. The algorithm does this for all the observed values and deteremines the slope of trendline which given the minimum of **SUM(y - y<sup>^</sup>)<sup>2</sup>**\n",
    "\n",
    "![trendline](trendline.PNG)\n",
    "\n",
    "### Steps to solve the problem.\n",
    "\n",
    "- **Step 1: Data Pre processing**\n",
    "  \n",
    "We will follow the same process as we did in fisrt series. We will import the libraries and read the csv file and take a look at the data.\n",
    "![dataset](dataset.PNG)"
   ]
  },
  {
   "cell_type": "code",
   "execution_count": 2,
   "metadata": {},
   "outputs": [],
   "source": [
    "# Importing the libraries\n",
    "import numpy as np\n",
    "import matplotlib.pyplot as plt\n",
    "import pandas as pd\n",
    "\n",
    "# Importing the dataset\n",
    "dataset = pd.read_csv('../Salary_Data.csv')\n",
    "X = dataset.iloc[:, :-1].values\n",
    "y = dataset.iloc[:, 1].values"
   ]
  },
  {
   "cell_type": "markdown",
   "metadata": {},
   "source": [
    "   - **Step 2: Split the data into training and test data**\n",
    "    \n",
    "    Since there are 30 rows, we will divide the data in 20:10(traing:test)"
   ]
  },
  {
   "cell_type": "code",
   "execution_count": 7,
   "metadata": {},
   "outputs": [],
   "source": [
    "#Split the data into training and test data\n",
    "from sklearn.model_selection import train_test_split\n",
    "X_train, X_test, y_train, y_test = train_test_split(X,y, test_size=1/3, random_state=0)"
   ]
  },
  {
   "cell_type": "markdown",
   "metadata": {},
   "source": [
    "![data-split.PNG](data-split.PNG)\n",
    "\n",
    "- **Step 3: Feature Scaling**\n",
    "We won't be feature scaling or normalizing here because the library that will execute the model takes care of it. So we are going to skip this step.\n",
    "\n",
    "\n",
    "- **Step 4: Train the model**\n",
    "   At this point our data pre-processing is complete and we will use the library to run the regression on the training data set."
   ]
  },
  {
   "cell_type": "code",
   "execution_count": 9,
   "metadata": {},
   "outputs": [
    {
     "data": {
      "text/plain": [
       "LinearRegression(copy_X=True, fit_intercept=True, n_jobs=None,\n",
       "         normalize=False)"
      ]
     },
     "execution_count": 9,
     "metadata": {},
     "output_type": "execute_result"
    }
   ],
   "source": [
    "#Fittiing the Simple linear regression on the training set\n",
    "from sklearn.linear_model import LinearRegression\n",
    "regressor = LinearRegression( )\n",
    "regressor.fit(X_train, y_train)"
   ]
  },
  {
   "cell_type": "markdown",
   "metadata": {},
   "source": [
    "In the above code, we have trained our model and saved it in the variable `regressor`. \n",
    "\n",
    "- **Step 5: Predict and compare with actual test set**\n",
    "\n",
    "Next we are going to predict the values of test sample and get the predicted results in variable `y_pred`."
   ]
  },
  {
   "cell_type": "code",
   "execution_count": 12,
   "metadata": {},
   "outputs": [],
   "source": [
    "# Predicting the salary of the test sample\n",
    "y_pred = regressor.predict(X_test)"
   ]
  },
  {
   "cell_type": "markdown",
   "metadata": {},
   "source": [
    "Let's see how did the model predict.\n",
    "![predicted](predicted.PNG)"
   ]
  },
  {
   "cell_type": "markdown",
   "metadata": {},
   "source": [
    "- **Step 5: Plot the data**\n",
    "\n",
    "To better understand, let's create plot the trendline of our model and look for two things\n",
    "1. What is the fit of trendline for training data?\n",
    "2. What is the fit of trendline on test data against predicted values?\n"
   ]
  },
  {
   "cell_type": "code",
   "execution_count": 11,
   "metadata": {},
   "outputs": [
    {
     "data": {
      "image/png": "[encoded data removed]",
      "text/plain": [
       "<Figure size 432x288 with 1 Axes>"
      ]
     },
     "metadata": {
      "needs_background": "light"
     },
     "output_type": "display_data"
    }
   ],
   "source": [
    "plt.scatter(X_train, y_train, color='red')\n",
    "plt.plot(X_train, regressor.predict(X_train), color='blue')\n",
    "plt.title('Salary vs Experience (Training Set)')\n",
    "plt.xlabel('Years of Experience')\n",
    "plt.ylabel('Salary')\n",
    "plt.show()\n"
   ]
  },
  {
   "cell_type": "markdown",
   "metadata": {},
   "source": [
    "Here's how the graph would like for **Training data** \n",
    "![trainingPlot.PNG](trainingPlot.PNG)\n",
    "Couple of things to note. The scatter function just plots the x,y values on the graph as red dots\n",
    "> plt.scatter(X_train, y_train, color='red')\n",
    "\n",
    "The plot function also maps the data as blue dots but it joins them via line starting from first mapping to the last. Additionally, you will also notice that in the y-axis, we have passed model function `predict(X_train)` and **not**  `predict(x_test)` because, we want to use the function created using the training set - `y=mx+c`. \n",
    "> plt.plot(X_train, regressor.predict(X_train), color='blue')\n",
    "\n",
    "#### Plot vs Scatter\n",
    "The primary difference of plt.scatter from plt.plot is that it can be used to create scatter plots where the properties of each individual point (size, face color, edge color, etc.) can be individually controlled or mapped to data.\n",
    "\n",
    "The purpose of the above code is to show trendline against the training data points(red dots). If we wantted to show predicted line as set plotted `dots`, we would have used \n",
    ">plt.scatter(X_train, regressor.predict(X_train), color='blue')\n",
    "\n",
    "In that case the graph would have looked like this.\n",
    "![plot-cs-scatter.PNG](plot-cs-scatter.PNG)\n",
    "\n",
    "Here's how the graph would like for **Test data** "
   ]
  },
  {
   "cell_type": "code",
   "execution_count": 13,
   "metadata": {},
   "outputs": [
    {
     "data": {
      "image/png": "[encoded data removed]",
      "text/plain": [
       "<Figure size 432x288 with 1 Axes>"
      ]
     },
     "metadata": {
      "needs_background": "light"
     },
     "output_type": "display_data"
    }
   ],
   "source": [
    "#Plot the data against test set\n",
    "plt.scatter(X_test, y_test, color='red')\n",
    "plt.plot(X_train, regressor.predict(X_train), color='blue')\n",
    "plt.title('Salary vs Experience (Test Set)')\n",
    "plt.xlabel('Years of Experience')\n",
    "plt.ylabel('Salary')\n",
    "plt.show()\n"
   ]
  },
  {
   "cell_type": "markdown",
   "metadata": {},
   "source": [
    "![trendline_test.PNG](trendline_test.PNG)\n",
    "As explained earlier, the trend line is what the model was trained against training data set. Hence\n",
    "> plt.plot(X_train, regressor.predict(X_train), color='blue')\n",
    "\n",
    "and **not** \n",
    "> plt.plot(X_test, regressor.predict(X_test), color='blue')\n",
    "\n",
    "Now let's create a more complete picture -  the training set(RED DOTS), test set(GREEN DOTS) and predicted value (BLACK DOTS). "
   ]
  },
  {
   "cell_type": "code",
   "execution_count": 14,
   "metadata": {},
   "outputs": [
    {
     "data": {
      "image/png": "[encoded data removed]",
      "text/plain": [
       "<Figure size 432x288 with 1 Axes>"
      ]
     },
     "metadata": {
      "needs_background": "light"
     },
     "output_type": "display_data"
    }
   ],
   "source": [
    "#Plot the data against test set\n",
    "plt.scatter(X_train, y_train, color='red')\n",
    "plt.scatter(X_test, y_test, color='green')\n",
    "plt.scatter(X_test, y_pred, color='black')\n",
    "\n",
    "plt.plot(X_train, regressor.predict(X_train), color='blue')\n",
    "plt.title('Salary vs Experience (Test Set)')\n",
    "plt.xlabel('Years of Experience')\n",
    "plt.ylabel('Salary')\n",
    "plt.show()"
   ]
  },
  {
   "cell_type": "markdown",
   "metadata": {},
   "source": [
    "So you will notice that all the `black` dots lie on the trend line because they are created using the trendline equation. \n",
    "\n",
    "That's it. We just trained a model using Simple linear regressiona and predicted the values, then compared it against test data."
   ]
  },
  {
   "cell_type": "code",
   "execution_count": null,
   "metadata": {},
   "outputs": [],
   "source": []
  }
 ],
 "metadata": {
  "kernelspec": {
   "display_name": "Python 3",
   "language": "python",
   "name": "python3"
  },
  "language_info": {
   "codemirror_mode": {
    "name": "ipython",
    "version": 3
   },
   "file_extension": ".py",
   "mimetype": "text/x-python",
   "name": "python",
   "nbconvert_exporter": "python",
   "pygments_lexer": "ipython3",
   "version": "3.7.1"
  },
  "varInspector": {
   "cols": {
    "lenName": 16,
    "lenType": 16,
    "lenVar": 40
   },
   "kernels_config": {
    "python": {
     "delete_cmd_postfix": "",
     "delete_cmd_prefix": "del ",
     "library": "var_list.py",
     "varRefreshCmd": "print(var_dic_list())"
    },
    "r": {
     "delete_cmd_postfix": ") ",
     "delete_cmd_prefix": "rm(",
     "library": "var_list.r",
     "varRefreshCmd": "cat(var_dic_list()) "
    }
   },
   "types_to_exclude": [
    "module",
    "function",
    "builtin_function_or_method",
    "instance",
    "_Feature"
   ],
   "window_display": false
  }
 },
 "nbformat": 4,
 "nbformat_minor": 2
}
