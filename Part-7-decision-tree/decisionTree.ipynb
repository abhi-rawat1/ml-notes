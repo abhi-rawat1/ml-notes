{
 "cells": [
  {
   "cell_type": "markdown",
   "metadata": {},
   "source": [
    "# Decision Tree Regression\n",
    "\n",
    "In the [previous post](http://www.javahabit.com/2019/02/10/part-6-ml-svr/) we learnt about Support vector regression. In this post we will see a new way of deciphering information using a simple format of traversing conditions.\n",
    "\n",
    "**Business Goal**: Can you spot the king? The people of *Falkland* are scared. Their king disguises as common man and roam amog them to gain knowledge about his kingdom and see if his polcies are working in his kingdom. When the king is disguised, the common people don't recognize him. If they accidently mistreat the king when he is disguised, they get punished. Can you help the people of *Falkland* spot the king? \n",
    "\n",
    "### How to get dataset?\n",
    "- Decision Tree dataset\n",
    "- Decision tree notebook\n",
    "\n",
    "### What is a 'Decision Tree'?\n",
    "![decsionTree](resources/img/decision/decisionTree.PNG)\n",
    "\n",
    ">Decision tree is set of 'yes' or 'no' flow, which cascades downward like an upside down tree. For example, given a set of independenct varibale or features about a person, can we find if the person is healthy.  \n",
    "\n",
    "![sampleTree.PNG](resources/img/decision/sampleTree.PNG)\n"
   ]
  },
  {
   "cell_type": "markdown",
   "metadata": {},
   "source": [
    "### Parts of decision Tree\n",
    "- Each decision point is called a **Node**. Ex - __Age < 30__\n",
    "- Each connector is called an __Edge__.\n",
    "- Each node which does not have any subnode is called a __Leaf__. Ex - __Fit__ or __Unfit!__."
   ]
  },
  {
   "cell_type": "markdown",
   "metadata": {},
   "source": [
    "### How is the tree built?\n",
    "To build a tree, we need to start with an *Independent Feature* as root node. The possible attributes or unique values of that feature form the edges. Once the first level of tree is completed, attach another feature node at the end of each node and traverse deeper. Once you have exhausted all the features, you will arrive at the dependent value or result.\n",
    "\n",
    "### Can we just start with any random feature as root node?\n",
    "This is a million $$$ question here. This is meat of the whole algorithm. Let's look at our business problem about the problem that people of *Falkland* are facing. We need to come up with a solution to spot the king when he is disguised to save the common man from mistreating him accidently and hence punished in return. Here's the data that we have collected about people leaving the castle.\n",
    "![falkland.PNG](resources/img/decision/falkland.PNG)"
   ]
  },
  {
   "cell_type": "markdown",
   "metadata": {},
   "source": [
    "> Ok! So we have the data, but how do we find out which feature will be the root node?   \n",
    "\n",
    "Going back to our previous [post](http://www.javahabit.com/2019/02/10/part-5-ml-mltr-backward-elimination/) on [__Backward Elimination__](http://www.javahabit.com/2019/02/10/part-5-ml-mltr-backward-elimination/), we can gather that root node should be a feature which is most important feature in making the decision. To find the most important feature, we will align each independent feature with dependent feature (*Is_King*).\n",
    "\n",
    "![featuremap.PNG](resources/img/decision/featuremap.PNG)\n",
    "![featureMap2.PNG](resources/img/decision/featureMap2.PNG)"
   ]
  },
  {
   "cell_type": "markdown",
   "metadata": {},
   "source": [
    "\n",
    "If we look at the above mapping, we will see that **Gold_Tooth** feature is right most of the time in predicting the king, followed by **castle** as it has least number of false positive. \n",
    "\n",
    "> Well that's good to know, but I noticed that you did talk about the last two features - __Greedy__ and __Slow__.  \n",
    "\n",
    "Yes, the distinction between the two is difficult to figure out. Both __Greedy__ and __Slow__ features have equal number of false positives. To understand, which feature is more important than the other, we need to understand __Data Entropy___.\n",
    "\n",
    "### What is Data Entropy?\n",
    "Entropy means how many times information chnaged that we got the positive result. Imagine if the king never left the castle, which means that all the information that we collected will show __Is_King__ as **0**. In our case, the entropy is **1** because, anybody could be the king. If we just had **Castle** as the feature, predicting the king would be difficult without other piece of information. \n",
    ">So in simple terms __Entropy is how many pieces of data point(*Independent feature*) are required, to guess the *Dependent variable* - *Is_King*__\n",
    "\n",
    "![falklandResult.PNG](resources/img/decision/falklandResult.PNG)"
   ]
  },
  {
   "cell_type": "markdown",
   "metadata": {},
   "source": [
    "To further explain. Let's say that instead of starting with **Gold_tooth** as root node, we start with **castle**, we will see that we are able to find the king only __3/10__ times. On top of that the left side gives very poor results. Just __1/5__ or __20%__. \n",
    "\n",
    "There is another problem with the above tree. It is too over complicated and is **overfitted**. If we get a new data the accuracy of our model could fall drastically.\n",
    "\n",
    "Going back to our learning in [earlier post](http://www.javahabit.com/2019/02/10/part-5-ml-mltr-backward-elimination/), simpler model should be preferred over complicated model to avoid overfitting."
   ]
  },
  {
   "cell_type": "markdown",
   "metadata": {},
   "source": [
    "### How to avoid overfitting in decision Tree?  \n",
    "Just remember the 3 golden rules to avoid overfitting:\n",
    "\n",
    "1. Use smaller number of datapoints to build the tree. Ex - 10% datapoints is a goo dplace to build a generic model.\n",
    "\n",
    "2. Do not go over board with the depth of the tree. A tree depth should only be increased of there is a significant improvement in the prediction.\n",
    "\n",
    "3. Stop, if number of datapoints at the split is less than 5%.\n",
    "\n",
    "Here's a refined version of the tree.\n",
    "\n",
    "![refinedTree.PNG](resources/img/decision/refinedTree.PNG)"
   ]
  },
  {
   "cell_type": "markdown",
   "metadata": {},
   "source": [
    "### Would this model work on non-categorical or continous values?\n",
    "Absoluletly!! The splitting rules would still apply as I mentioned above. \n",
    "\n",
    "![spli1.PNG](resources/img/decision/spli1.PNG)"
   ]
  },
  {
   "cell_type": "markdown",
   "metadata": {},
   "source": [
    "So each Split is a leaf node above. Imagine if we wanted to find the dependent variable __Y__ whose independent partners __X1__ and __X2__ are __10__ and __150__, then it would land in first node as __300.5__.\n",
    "\n",
    "> I get why it landed in first leaf node position but where did we get value **300.5**?  \n",
    "The value 300.5 is the average of all the datapoints in that box.  \n",
    "\n",
    "> **Pay attention and read the previous 2 lines again.** The last two line will help you understand why we need to divide it into different leaves and nodes. If you do not have splits, then the only option is to take the average of the **ALL** the datapoints!! The accuracy would be nowhere close to your expectation and would be same all values of X1 and X2.\n"
   ]
  },
  {
   "cell_type": "markdown",
   "metadata": {},
   "source": [
    "![split2.PNG](resources/img/decision/split2.PNG)"
   ]
  },
  {
   "cell_type": "markdown",
   "metadata": {},
   "source": [
    "### Python Implementation\n",
    "We are going to take a standard dataset called IRIS Dataset\n",
    ">“The Iris flower dataset or Fisher’s Iris dataset is a multivariate dataset introduced by the British statistician and biologist Ronald Fisher in his 1936 paper ‘The use of multiple measurements in taxonomic problems as an example of linear discriminant analysis’.” — Wikipedia\n",
    "\n",
    "In layman terms it is a set of datapoints about IRIS flower where we have the information about length and width of sepals and petals about 3 varities.\n",
    "\n",
    "![iris.PNG](resources/img/decision/iris.PNG)"
   ]
  },
  {
   "cell_type": "markdown",
   "metadata": {},
   "source": [
    "__Step 1 :__ Get the common imports"
   ]
  },
  {
   "cell_type": "code",
   "execution_count": 1,
   "metadata": {},
   "outputs": [],
   "source": [
    "# Importing the libraries\n",
    "import numpy as np\n",
    "import matplotlib.pyplot as plt\n",
    "import pandas as pd\n",
    "from sklearn.tree import DecisionTreeClassifier\n",
    "dataset = pd.read_csv(\"iris.csv\")"
   ]
  },
  {
   "cell_type": "markdown",
   "metadata": {},
   "source": [
    "__Step 2:__ Identify the missing data\n"
   ]
  },
  {
   "cell_type": "code",
   "execution_count": 2,
   "metadata": {},
   "outputs": [
    {
     "data": {
      "text/plain": [
       "sepal-length    False\n",
       "sepal-width     False\n",
       "petal-length    False\n",
       "petal-width     False\n",
       "species         False\n",
       "dtype: bool"
      ]
     },
     "execution_count": 2,
     "metadata": {},
     "output_type": "execute_result"
    }
   ],
   "source": [
    "dataset.isnull().any()"
   ]
  },
  {
   "cell_type": "markdown",
   "metadata": {},
   "source": [
    "**Step 3:** Describe the data and identify the data types\n"
   ]
  },
  {
   "cell_type": "code",
   "execution_count": 3,
   "metadata": {},
   "outputs": [
    {
     "data": {
      "text/html": [
       "<div>\n",
       "<style scoped>\n",
       "    .dataframe tbody tr th:only-of-type {\n",
       "        vertical-align: middle;\n",
       "    }\n",
       "\n",
       "    .dataframe tbody tr th {\n",
       "        vertical-align: top;\n",
       "    }\n",
       "\n",
       "    .dataframe thead th {\n",
       "        text-align: right;\n",
       "    }\n",
       "</style>\n",
       "<table border=\"1\" class=\"dataframe\">\n",
       "  <thead>\n",
       "    <tr style=\"text-align: right;\">\n",
       "      <th></th>\n",
       "      <th>sepal-length</th>\n",
       "      <th>sepal-width</th>\n",
       "      <th>petal-length</th>\n",
       "      <th>petal-width</th>\n",
       "    </tr>\n",
       "  </thead>\n",
       "  <tbody>\n",
       "    <tr>\n",
       "      <th>count</th>\n",
       "      <td>150.000000</td>\n",
       "      <td>150.000000</td>\n",
       "      <td>150.000000</td>\n",
       "      <td>150.000000</td>\n",
       "    </tr>\n",
       "    <tr>\n",
       "      <th>mean</th>\n",
       "      <td>5.843333</td>\n",
       "      <td>3.054000</td>\n",
       "      <td>3.758667</td>\n",
       "      <td>1.198667</td>\n",
       "    </tr>\n",
       "    <tr>\n",
       "      <th>std</th>\n",
       "      <td>0.828066</td>\n",
       "      <td>0.433594</td>\n",
       "      <td>1.764420</td>\n",
       "      <td>0.763161</td>\n",
       "    </tr>\n",
       "    <tr>\n",
       "      <th>min</th>\n",
       "      <td>4.300000</td>\n",
       "      <td>2.000000</td>\n",
       "      <td>1.000000</td>\n",
       "      <td>0.100000</td>\n",
       "    </tr>\n",
       "    <tr>\n",
       "      <th>25%</th>\n",
       "      <td>5.100000</td>\n",
       "      <td>2.800000</td>\n",
       "      <td>1.600000</td>\n",
       "      <td>0.300000</td>\n",
       "    </tr>\n",
       "    <tr>\n",
       "      <th>50%</th>\n",
       "      <td>5.800000</td>\n",
       "      <td>3.000000</td>\n",
       "      <td>4.350000</td>\n",
       "      <td>1.300000</td>\n",
       "    </tr>\n",
       "    <tr>\n",
       "      <th>75%</th>\n",
       "      <td>6.400000</td>\n",
       "      <td>3.300000</td>\n",
       "      <td>5.100000</td>\n",
       "      <td>1.800000</td>\n",
       "    </tr>\n",
       "    <tr>\n",
       "      <th>max</th>\n",
       "      <td>7.900000</td>\n",
       "      <td>4.400000</td>\n",
       "      <td>6.900000</td>\n",
       "      <td>2.500000</td>\n",
       "    </tr>\n",
       "  </tbody>\n",
       "</table>\n",
       "</div>"
      ],
      "text/plain": [
       "       sepal-length  sepal-width  petal-length  petal-width\n",
       "count    150.000000   150.000000    150.000000   150.000000\n",
       "mean       5.843333     3.054000      3.758667     1.198667\n",
       "std        0.828066     0.433594      1.764420     0.763161\n",
       "min        4.300000     2.000000      1.000000     0.100000\n",
       "25%        5.100000     2.800000      1.600000     0.300000\n",
       "50%        5.800000     3.000000      4.350000     1.300000\n",
       "75%        6.400000     3.300000      5.100000     1.800000\n",
       "max        7.900000     4.400000      6.900000     2.500000"
      ]
     },
     "execution_count": 3,
     "metadata": {},
     "output_type": "execute_result"
    }
   ],
   "source": [
    "dataset.describe()\n"
   ]
  },
  {
   "cell_type": "markdown",
   "metadata": {},
   "source": [
    "![iris-describe.PNG](resources/img/decision/iris-describe.PNG)"
   ]
  },
  {
   "cell_type": "code",
   "execution_count": 4,
   "metadata": {},
   "outputs": [
    {
     "data": {
      "text/plain": [
       "sepal-length    float64\n",
       "sepal-width     float64\n",
       "petal-length    float64\n",
       "petal-width     float64\n",
       "species          object\n",
       "dtype: object"
      ]
     },
     "execution_count": 4,
     "metadata": {},
     "output_type": "execute_result"
    }
   ],
   "source": [
    "dataset.dtypes"
   ]
  },
  {
   "cell_type": "markdown",
   "metadata": {},
   "source": [
    "![iris_sample.PNG](resources/img/decision/iris_sample.PNG)"
   ]
  },
  {
   "cell_type": "markdown",
   "metadata": {},
   "source": [
    "__Step 4 :__ Load the Iris data and create the X and Y variables"
   ]
  },
  {
   "cell_type": "code",
   "execution_count": 5,
   "metadata": {},
   "outputs": [],
   "source": [
    "\n",
    "X= dataset.iloc[0:, 0:4].values\n",
    "Y = dataset.iloc[:,4]"
   ]
  },
  {
   "cell_type": "markdown",
   "metadata": {},
   "source": [
    "**Step 5:** Plot the data"
   ]
  },
  {
   "cell_type": "code",
   "execution_count": 6,
   "metadata": {},
   "outputs": [
    {
     "data": {
      "text/plain": [
       "<Figure size 432x288 with 0 Axes>"
      ]
     },
     "metadata": {},
     "output_type": "display_data"
    },
    {
     "data": {
      "image/png": "[encoded data removed]",
      "text/plain": [
       "<Figure size 1512x720 with 2 Axes>"
      ]
     },
     "metadata": {
      "needs_background": "light"
     },
     "output_type": "display_data"
    }
   ],
   "source": [
    "\n",
    "\n",
    "##Get the dataset for each of the three species\n",
    "setosa=dataset[dataset['species']=='Iris-setosa']\n",
    "versicolor =dataset[dataset['species']=='Iris-versicolor']\n",
    "virginica =dataset[dataset['species']=='Iris-virginica']\n",
    "\n",
    "#Create an empty figure with two windows pf size 21 by 10\n",
    "plt.figure()\n",
    "fig,ax=plt.subplots(1,2,figsize=(21, 10))\n",
    "\n",
    "#Plot each species using Sepal length and width on x-y axis\n",
    "setosa.plot(x=\"sepal-length\", y=\"sepal-width\", kind=\"scatter\",ax=ax[0],label='setosa',color='r')\n",
    "versicolor.plot(x=\"sepal-length\",y=\"sepal-width\",kind=\"scatter\",ax=ax[0],label='versicolor',color='b')\n",
    "virginica.plot(x=\"sepal-length\", y=\"sepal-width\", kind=\"scatter\", ax=ax[0], label='virginica', color='g')\n",
    "\n",
    "#Plot each species using Petal length and width on x-y axis\n",
    "setosa.plot(x=\"petal-length\", y=\"petal-width\", kind=\"scatter\",ax=ax[1],label='setosa',color='r')\n",
    "versicolor.plot(x=\"petal-length\",y=\"petal-width\",kind=\"scatter\",ax=ax[1],label='versicolor',color='b')\n",
    "virginica.plot(x=\"petal-length\", y=\"petal-width\", kind=\"scatter\", ax=ax[1], label='virginica', color='g')\n",
    "\n",
    "#Give Each figure its names\n",
    "ax[0].set(title='Sepal comparasion ', ylabel='sepal-width')\n",
    "ax[1].set(title='Petal Comparasion',  ylabel='petal-width')\n",
    "ax[0].legend()\n",
    "ax[1].legend()\n",
    "\n",
    "#Show the plot\n",
    "plt.show()\n"
   ]
  },
  {
   "cell_type": "markdown",
   "metadata": {},
   "source": [
    "\n",
    "![iris-plot.PNG](resources/img/decision/iris-plot.PNG)"
   ]
  },
  {
   "cell_type": "markdown",
   "metadata": {},
   "source": [
    "**Step 6:** Encode the value of Flower types\n",
    "The values of dependent variabale needs to be encoded to numbers as they are categorical values"
   ]
  },
  {
   "cell_type": "code",
   "execution_count": 7,
   "metadata": {},
   "outputs": [],
   "source": [
    "from sklearn.preprocessing import LabelEncoder\n",
    "labelEncoder_y = LabelEncoder()\n",
    "Y = labelEncoder_y.fit_transform(Y)\n"
   ]
  },
  {
   "cell_type": "markdown",
   "metadata": {},
   "source": [
    "**Step 7:** Split the data in train and test set"
   ]
  },
  {
   "cell_type": "code",
   "execution_count": 8,
   "metadata": {},
   "outputs": [],
   "source": [
    "from sklearn.model_selection import train_test_split\n",
    "x_train, x_test, y_train, y_test = train_test_split(X,Y, test_size=0.2, random_state=0)"
   ]
  },
  {
   "cell_type": "markdown",
   "metadata": {},
   "source": [
    "**Step 8:** Train the Decision Tree model\n",
    "    "
   ]
  },
  {
   "cell_type": "code",
   "execution_count": 9,
   "metadata": {},
   "outputs": [
    {
     "data": {
      "text/plain": [
       "DecisionTreeRegressor(criterion='mse', max_depth=None, max_features=None,\n",
       "           max_leaf_nodes=None, min_impurity_decrease=0.0,\n",
       "           min_impurity_split=None, min_samples_leaf=1,\n",
       "           min_samples_split=2, min_weight_fraction_leaf=0.0,\n",
       "           presort=False, random_state=0, splitter='best')"
      ]
     },
     "execution_count": 9,
     "metadata": {},
     "output_type": "execute_result"
    }
   ],
   "source": [
    "from sklearn.tree import DecisionTreeRegressor\n",
    "regressor = DecisionTreeRegressor(random_state=0)\n",
    "regressor.fit(x_train, y_train)"
   ]
  },
  {
   "cell_type": "markdown",
   "metadata": {},
   "source": [
    "**Step 9:** Predict and score the model\n"
   ]
  },
  {
   "cell_type": "code",
   "execution_count": 10,
   "metadata": {},
   "outputs": [
    {
     "name": "stdout",
     "output_type": "stream",
     "text": [
      "1.0\n"
     ]
    }
   ],
   "source": [
    "y_predict=regressor.predict(x_test)\n",
    "\n",
    "print(regressor.score(x_test,y_test))"
   ]
  },
  {
   "cell_type": "markdown",
   "metadata": {},
   "source": [
    "> Wow! Did we just predict that our model is correct 100% of the time?  \n",
    "The reason the accuracy is showing 100% is that our model is too complex as we did not define the maximum depth of tree and hence we broke a cardinal rule. Let's take a look at the created tree. "
   ]
  },
  {
   "cell_type": "code",
   "execution_count": 11,
   "metadata": {},
   "outputs": [
    {
     "data": {
      "image/png": "[encoded data removed]",
      "text/plain": [
       "<IPython.core.display.Image object>"
      ]
     },
     "execution_count": 11,
     "metadata": {},
     "output_type": "execute_result"
    }
   ],
   "source": [
    "from sklearn.externals.six import StringIO \n",
    "from IPython.display import Image \n",
    "from sklearn.tree import export_graphviz\n",
    "import pydotplus\n",
    "from sklearn import tree\n",
    "\n",
    "dot_data = StringIO()  \n",
    "tree.export_graphviz(regressor, out_file=dot_data)\n",
    "graph = pydotplus.graph_from_dot_data(dot_data.getvalue())  \n",
    "Image(graph.create_png())"
   ]
  },
  {
   "cell_type": "markdown",
   "metadata": {},
   "source": [
    "![tree.PNG](resources/img/decision/tree.PNG)\n",
    "\n",
    "As you can see, that since we did not provide a maximum depth of tree, it created a complex tree of 6 layers and hence for our model we are getting 100% accuracy. This means that the model is an **overfitted model**.\n",
    "\n",
    "Let's fix this by creating a simpler model."
   ]
  },
  {
   "cell_type": "code",
   "execution_count": 24,
   "metadata": {},
   "outputs": [
    {
     "name": "stdout",
     "output_type": "stream",
     "text": [
      "0.9739827477382705\n"
     ]
    }
   ],
   "source": [
    "#Creating a model that is only 2 layers deep by setting max_depth=3\n",
    "regressor = DecisionTreeRegressor(random_state=0,criterion='mse', splitter='best', max_depth=3, min_samples_split=3, min_samples_leaf=2 )\n",
    "regressor.fit(x_train, y_train)\n",
    "\n",
    "y_predict=regressor.predict(x_test)\n",
    "\n",
    "print(regressor.score(x_test,y_test))"
   ]
  },
  {
   "cell_type": "markdown",
   "metadata": {},
   "source": [
    "> As you can see that the model is not an overfit anymore and still gives us pretty good accuracy of __97.4%__.  \n",
    "Looking at the decision tree now.\n"
   ]
  },
  {
   "cell_type": "markdown",
   "metadata": {},
   "source": [
    "from sklearn.externals.six import StringIO \n",
    "from IPython.display import Image \n",
    "from sklearn.tree import export_graphviz\n",
    "import pydotplus\n",
    "from sklearn import tree\n",
    "\n",
    "dot_data = StringIO()  \n",
    "tree.export_graphviz(regressor, out_file=dot_data)\n",
    "graph = pydotplus.graph_from_dot_data(dot_data.getvalue())  \n",
    "Image(graph.create_png())"
   ]
  },
  {
   "cell_type": "markdown",
   "metadata": {},
   "source": [
    "![tree_fix.PNG](resources/img/decision/tree_fix.PNG)"
   ]
  },
  {
   "cell_type": "markdown",
   "metadata": {},
   "source": [
    "\n",
    "So keep climbing the tree of success with this DecisionTree resression model. In the next series we will see how to use a kin of decision tree called Random forest regression."
   ]
  },
  {
   "cell_type": "code",
   "execution_count": null,
   "metadata": {},
   "outputs": [],
   "source": []
  }
 ],
 "metadata": {
  "kernelspec": {
   "display_name": "Python 3",
   "language": "python",
   "name": "python3"
  },
  "language_info": {
   "codemirror_mode": {
    "name": "ipython",
    "version": 3
   },
   "file_extension": ".py",
   "mimetype": "text/x-python",
   "name": "python",
   "nbconvert_exporter": "python",
   "pygments_lexer": "ipython3",
   "version": "3.7.1"
  },
  "varInspector": {
   "cols": {
    "lenName": 16,
    "lenType": 16,
    "lenVar": 40
   },
   "kernels_config": {
    "python": {
     "delete_cmd_postfix": "",
     "delete_cmd_prefix": "del ",
     "library": "var_list.py",
     "varRefreshCmd": "print(var_dic_list())"
    },
    "r": {
     "delete_cmd_postfix": ") ",
     "delete_cmd_prefix": "rm(",
     "library": "var_list.r",
     "varRefreshCmd": "cat(var_dic_list()) "
    }
   },
   "types_to_exclude": [
    "module",
    "function",
    "builtin_function_or_method",
    "instance",
    "_Feature"
   ],
   "window_display": false
  }
 },
 "nbformat": 4,
 "nbformat_minor": 2
}
