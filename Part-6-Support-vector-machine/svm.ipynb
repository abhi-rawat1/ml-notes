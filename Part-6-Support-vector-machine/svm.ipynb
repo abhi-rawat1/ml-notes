{
 "cells": [
  {
   "cell_type": "markdown",
   "metadata": {},
   "source": [
    "# Support Vector Regression"
   ]
  },
  {
   "cell_type": "markdown",
   "metadata": {},
   "source": [
    "**Business Goal**: As an owner of **`MuShu Bike Rental CO.`** in New york. I want to know how many bicyles will be rented on any given day based on daily temprature, humidity and wndspeed. Can you help  **`MuShu Bike Rental CO.`**  to predict the number of daily rental. \n",
    "\n",
    "Let's solve this problem using SVR - *Support Vector Regression*.  \n",
    "Before we begin, let's see the key terms that will be used. \n",
    "## Key terms\n",
    "- **Kernel**\n",
    "> A fancy word for function used to map a lower dimension data into higher dimension data.\n",
    "\n",
    "- **Hyper Plane**\n",
    ">This is line that help us predict the target values.\n",
    "\n",
    "- **Boundary Line**\n",
    "> There are two boundary lines which separates the classes. The support vectors can be __on__ the boundary line or __outside__ the boundary line.\n",
    "\n",
    "- **Support Vectors**\n",
    "> Support vectors are the data points which are closest to the boundary line.\n"
   ]
  },
  {
   "cell_type": "markdown",
   "metadata": {},
   "source": [
    "## What is SVR  model?\n",
    "In Simple/multiple regression we try to minimize the the errors while in SVR, we try to fit the error within a threshold.\n",
    "> **Blue Line: Hyper Plane | Red Line: Boundary lines**\n",
    "![random.PNG](resources/img/svr/random.PNG)\n",
    "\n",
    "Looking at the above figure, our goal is have the data points **inside** the boundary lines and hyper plane with maximum number of data points.\n"
   ]
  },
  {
   "cell_type": "markdown",
   "metadata": {},
   "source": [
    "### What is \"Boundary again?\n",
    "The red lines that you see in the digram above are called boundary lines. These lines are at equidistant from hyper plane (Blue line). So basiaccly, if one boundary line is at distance **\"e\"** distance from hyper plane the other would be at distnce of **\"-e\"**.\n",
    "In mathematical eqation.\n",
    " If hyper plane line is staright line going through Y-AXIS and represnted as\n",
    "  > mX + C =0  \n",
    "\n",
    " Then the equation of boundary lines can be represnted as \n",
    "> mX + C = e  \n",
    " mx +C = -e\n",
    "\n",
    " The final equation of SVR can be represnted as  \n",
    "> e≤ y-mx-c ≤+e"
   ]
  },
  {
   "cell_type": "markdown",
   "metadata": {},
   "source": [
    "> To summarize: The goal so far is to find the distance value **e** which is equidistant from `hyper plane` line with the maximum data points OR that they are inside the `Boundary line`.\n",
    "![full-random.PNG](resources/img/svr/full-random.PNG)"
   ]
  },
  {
   "cell_type": "markdown",
   "metadata": {},
   "source": [
    "### Exploring the dataset\n"
   ]
  },
  {
   "cell_type": "code",
   "execution_count": 1,
   "metadata": {},
   "outputs": [],
   "source": [
    "import numpy as np\n",
    "import pandas as pd\n",
    "import matplotlib.pyplot as plt\n",
    "\n",
    "##Import the datset\n",
    "dataset = pd.read_csv('BikeRental/bike_rental_train.csv')\n"
   ]
  },
  {
   "cell_type": "code",
   "execution_count": 2,
   "metadata": {},
   "outputs": [
    {
     "data": {
      "text/html": [
       "<div>\n",
       "<style scoped>\n",
       "    .dataframe tbody tr th:only-of-type {\n",
       "        vertical-align: middle;\n",
       "    }\n",
       "\n",
       "    .dataframe tbody tr th {\n",
       "        vertical-align: top;\n",
       "    }\n",
       "\n",
       "    .dataframe thead th {\n",
       "        text-align: right;\n",
       "    }\n",
       "</style>\n",
       "<table border=\"1\" class=\"dataframe\">\n",
       "  <thead>\n",
       "    <tr style=\"text-align: right;\">\n",
       "      <th></th>\n",
       "      <th>temp</th>\n",
       "      <th>humidity</th>\n",
       "      <th>windspeed</th>\n",
       "      <th>bike_rent_count</th>\n",
       "    </tr>\n",
       "  </thead>\n",
       "  <tbody>\n",
       "    <tr>\n",
       "      <th>0</th>\n",
       "      <td>9.02</td>\n",
       "      <td>80</td>\n",
       "      <td>0.0000</td>\n",
       "      <td>40</td>\n",
       "    </tr>\n",
       "    <tr>\n",
       "      <th>1</th>\n",
       "      <td>9.02</td>\n",
       "      <td>80</td>\n",
       "      <td>0.0000</td>\n",
       "      <td>32</td>\n",
       "    </tr>\n",
       "    <tr>\n",
       "      <th>2</th>\n",
       "      <td>9.84</td>\n",
       "      <td>75</td>\n",
       "      <td>0.0000</td>\n",
       "      <td>13</td>\n",
       "    </tr>\n",
       "    <tr>\n",
       "      <th>3</th>\n",
       "      <td>9.84</td>\n",
       "      <td>75</td>\n",
       "      <td>0.0000</td>\n",
       "      <td>1</td>\n",
       "    </tr>\n",
       "    <tr>\n",
       "      <th>4</th>\n",
       "      <td>9.84</td>\n",
       "      <td>75</td>\n",
       "      <td>6.0032</td>\n",
       "      <td>1</td>\n",
       "    </tr>\n",
       "  </tbody>\n",
       "</table>\n",
       "</div>"
      ],
      "text/plain": [
       "   temp  humidity  windspeed  bike_rent_count\n",
       "0  9.02        80     0.0000               40\n",
       "1  9.02        80     0.0000               32\n",
       "2  9.84        75     0.0000               13\n",
       "3  9.84        75     0.0000                1\n",
       "4  9.84        75     6.0032                1"
      ]
     },
     "execution_count": 2,
     "metadata": {},
     "output_type": "execute_result"
    }
   ],
   "source": [
    "dataset.head()"
   ]
  },
  {
   "cell_type": "code",
   "execution_count": 3,
   "metadata": {},
   "outputs": [
    {
     "data": {
      "text/html": [
       "<div>\n",
       "<style scoped>\n",
       "    .dataframe tbody tr th:only-of-type {\n",
       "        vertical-align: middle;\n",
       "    }\n",
       "\n",
       "    .dataframe tbody tr th {\n",
       "        vertical-align: top;\n",
       "    }\n",
       "\n",
       "    .dataframe thead th {\n",
       "        text-align: right;\n",
       "    }\n",
       "</style>\n",
       "<table border=\"1\" class=\"dataframe\">\n",
       "  <thead>\n",
       "    <tr style=\"text-align: right;\">\n",
       "      <th></th>\n",
       "      <th>count</th>\n",
       "      <th>mean</th>\n",
       "      <th>std</th>\n",
       "      <th>min</th>\n",
       "      <th>25%</th>\n",
       "      <th>50%</th>\n",
       "      <th>75%</th>\n",
       "      <th>max</th>\n",
       "    </tr>\n",
       "  </thead>\n",
       "  <tbody>\n",
       "    <tr>\n",
       "      <th>temp</th>\n",
       "      <td>9801.0</td>\n",
       "      <td>20.230348</td>\n",
       "      <td>7.791740</td>\n",
       "      <td>0.82</td>\n",
       "      <td>13.9400</td>\n",
       "      <td>20.500</td>\n",
       "      <td>26.2400</td>\n",
       "      <td>41.0000</td>\n",
       "    </tr>\n",
       "    <tr>\n",
       "      <th>humidity</th>\n",
       "      <td>9801.0</td>\n",
       "      <td>61.903989</td>\n",
       "      <td>19.293371</td>\n",
       "      <td>0.00</td>\n",
       "      <td>47.0000</td>\n",
       "      <td>62.000</td>\n",
       "      <td>78.0000</td>\n",
       "      <td>100.0000</td>\n",
       "    </tr>\n",
       "    <tr>\n",
       "      <th>windspeed</th>\n",
       "      <td>9801.0</td>\n",
       "      <td>12.836534</td>\n",
       "      <td>8.177168</td>\n",
       "      <td>0.00</td>\n",
       "      <td>7.0015</td>\n",
       "      <td>12.998</td>\n",
       "      <td>16.9979</td>\n",
       "      <td>56.9969</td>\n",
       "    </tr>\n",
       "    <tr>\n",
       "      <th>bike_rent_count</th>\n",
       "      <td>9801.0</td>\n",
       "      <td>191.334864</td>\n",
       "      <td>181.048534</td>\n",
       "      <td>1.00</td>\n",
       "      <td>42.0000</td>\n",
       "      <td>145.000</td>\n",
       "      <td>283.0000</td>\n",
       "      <td>977.0000</td>\n",
       "    </tr>\n",
       "  </tbody>\n",
       "</table>\n",
       "</div>"
      ],
      "text/plain": [
       "                  count        mean         std   min      25%      50%  \\\n",
       "temp             9801.0   20.230348    7.791740  0.82  13.9400   20.500   \n",
       "humidity         9801.0   61.903989   19.293371  0.00  47.0000   62.000   \n",
       "windspeed        9801.0   12.836534    8.177168  0.00   7.0015   12.998   \n",
       "bike_rent_count  9801.0  191.334864  181.048534  1.00  42.0000  145.000   \n",
       "\n",
       "                      75%       max  \n",
       "temp              26.2400   41.0000  \n",
       "humidity          78.0000  100.0000  \n",
       "windspeed         16.9979   56.9969  \n",
       "bike_rent_count  283.0000  977.0000  "
      ]
     },
     "execution_count": 3,
     "metadata": {},
     "output_type": "execute_result"
    }
   ],
   "source": [
    "dataset.describe().T"
   ]
  },
  {
   "cell_type": "code",
   "execution_count": 4,
   "metadata": {},
   "outputs": [
    {
     "data": {
      "text/plain": [
       "Index(['temp', 'humidity', 'windspeed', 'bike_rent_count'], dtype='object')"
      ]
     },
     "execution_count": 4,
     "metadata": {},
     "output_type": "execute_result"
    }
   ],
   "source": [
    "dataset.columns"
   ]
  },
  {
   "cell_type": "code",
   "execution_count": 5,
   "metadata": {
    "scrolled": true
   },
   "outputs": [
    {
     "data": {
      "image/png": "[encoded data removed]",
      "text/plain": [
       "<Figure size 432x288 with 1 Axes>"
      ]
     },
     "metadata": {
      "needs_background": "light"
     },
     "output_type": "display_data"
    }
   ],
   "source": [
    "plt.scatter( dataset.temp, dataset.bike_rent_count, c='green');\n"
   ]
  },
  {
   "cell_type": "code",
   "execution_count": 6,
   "metadata": {},
   "outputs": [
    {
     "data": {
      "image/png": "[encoded data removed]",
      "text/plain": [
       "<Figure size 432x288 with 1 Axes>"
      ]
     },
     "metadata": {
      "needs_background": "light"
     },
     "output_type": "display_data"
    }
   ],
   "source": [
    "plt.scatter( dataset.humidity,dataset.bike_rent_count);\n"
   ]
  },
  {
   "cell_type": "code",
   "execution_count": 7,
   "metadata": {},
   "outputs": [
    {
     "data": {
      "image/png": "[encoded data removed]",
      "text/plain": [
       "<Figure size 432x288 with 1 Axes>"
      ]
     },
     "metadata": {
      "needs_background": "light"
     },
     "output_type": "display_data"
    }
   ],
   "source": [
    "plt.scatter( dataset.windspeed, dataset.bike_rent_count);"
   ]
  },
  {
   "cell_type": "markdown",
   "metadata": {},
   "source": [
    "> **Summary**  \n",
    "Based on data description and histogram plot.\n",
    "- Temp Range = 0 to 41\n",
    "- Humidity Range = 0 to 100\n",
    "- Windspeed = 0 to 57"
   ]
  },
  {
   "cell_type": "code",
   "execution_count": 8,
   "metadata": {},
   "outputs": [
    {
     "data": {
      "text/html": [
       "<div>\n",
       "<style scoped>\n",
       "    .dataframe tbody tr th:only-of-type {\n",
       "        vertical-align: middle;\n",
       "    }\n",
       "\n",
       "    .dataframe tbody tr th {\n",
       "        vertical-align: top;\n",
       "    }\n",
       "\n",
       "    .dataframe thead th {\n",
       "        text-align: right;\n",
       "    }\n",
       "</style>\n",
       "<table border=\"1\" class=\"dataframe\">\n",
       "  <thead>\n",
       "    <tr style=\"text-align: right;\">\n",
       "      <th></th>\n",
       "      <th>temp</th>\n",
       "      <th>humidity</th>\n",
       "      <th>windspeed</th>\n",
       "      <th>bike_rent_count</th>\n",
       "    </tr>\n",
       "  </thead>\n",
       "  <tbody>\n",
       "    <tr>\n",
       "      <th>temp</th>\n",
       "      <td>1.000000</td>\n",
       "      <td>-0.060524</td>\n",
       "      <td>-0.020792</td>\n",
       "      <td>0.393114</td>\n",
       "    </tr>\n",
       "    <tr>\n",
       "      <th>humidity</th>\n",
       "      <td>-0.060524</td>\n",
       "      <td>1.000000</td>\n",
       "      <td>-0.317602</td>\n",
       "      <td>-0.312835</td>\n",
       "    </tr>\n",
       "    <tr>\n",
       "      <th>windspeed</th>\n",
       "      <td>-0.020792</td>\n",
       "      <td>-0.317602</td>\n",
       "      <td>1.000000</td>\n",
       "      <td>0.096836</td>\n",
       "    </tr>\n",
       "    <tr>\n",
       "      <th>bike_rent_count</th>\n",
       "      <td>0.393114</td>\n",
       "      <td>-0.312835</td>\n",
       "      <td>0.096836</td>\n",
       "      <td>1.000000</td>\n",
       "    </tr>\n",
       "  </tbody>\n",
       "</table>\n",
       "</div>"
      ],
      "text/plain": [
       "                     temp  humidity  windspeed  bike_rent_count\n",
       "temp             1.000000 -0.060524  -0.020792         0.393114\n",
       "humidity        -0.060524  1.000000  -0.317602        -0.312835\n",
       "windspeed       -0.020792 -0.317602   1.000000         0.096836\n",
       "bike_rent_count  0.393114 -0.312835   0.096836         1.000000"
      ]
     },
     "execution_count": 8,
     "metadata": {},
     "output_type": "execute_result"
    }
   ],
   "source": [
    "dataset.corr(method='pearson', min_periods=1)"
   ]
  },
  {
   "cell_type": "markdown",
   "metadata": {},
   "source": [
    "> **Summary**  \n",
    "- Looking at the coorelation matrix, we see that there is a positive relation between `temprature` and `bike_rent_count`\n",
    "- `Humidity` has negative effect on `bike_rent_count`. Hgher the humidity, lower the number of rentals\n",
    "- `Windspeed` has little effect on `bike_rent_count`.  \n",
    "Looking at the correlation matrix, it confirms the visuals that bike count rental has weak correlation with all of the 3 variables. \n",
    "\n",
    "**What does weak correlation means?**\n",
    "It means that the equation of model that we are going to plot is probably not going to give very accurate results. However, the goal of this post is to show you how to implement SVR. \n",
    "\n",
    "So Let's bring out our template from our [first post](http://www.javahabit.com/2019/01/21/part-1-ml-data-preprocessing/) on data pre processing.\n",
    "\n",
    "\n",
    "\n"
   ]
  },
  {
   "cell_type": "markdown",
   "metadata": {},
   "source": [
    "> **Step 1**: Let's break the data into Dependent and Independent variable"
   ]
  },
  {
   "cell_type": "code",
   "execution_count": 9,
   "metadata": {},
   "outputs": [],
   "source": [
    "### Break up in dependent and Independent variables\n",
    "X = dataset.iloc[:, 0:3].values\n",
    "y = dataset.iloc[:, 3].values\n"
   ]
  },
  {
   "cell_type": "markdown",
   "metadata": {},
   "source": [
    "> **Step 2** : Break the data into train and test set"
   ]
  },
  {
   "cell_type": "code",
   "execution_count": 10,
   "metadata": {},
   "outputs": [],
   "source": [
    "# Splitting the dataset into the Training set and Test set\n",
    "from sklearn.model_selection import train_test_split\n",
    "X_train, X_test, y_train, y_test = train_test_split(X, y, test_size = 0.2, random_state = 0)\n"
   ]
  },
  {
   "cell_type": "markdown",
   "metadata": {},
   "source": [
    "> **Step 3**: Feature scaling. This step is required here beacause SVR library does not do feature scaling."
   ]
  },
  {
   "cell_type": "code",
   "execution_count": 11,
   "metadata": {},
   "outputs": [],
   "source": [
    "# Feature Scaling\n",
    "from sklearn.preprocessing import StandardScaler\n",
    "sc_X = StandardScaler()\n",
    "X_train = sc_X.fit_transform(X_train)\n",
    "X_test = sc_X.transform(X_test)\n",
    "#sc_y = StandardScaler()\n",
    "#y_train = sc_y.fit_transform(y_train)"
   ]
  },
  {
   "cell_type": "markdown",
   "metadata": {},
   "source": [
    "> **Step 4**: Create a Regessor and fit the model"
   ]
  },
  {
   "cell_type": "code",
   "execution_count": 12,
   "metadata": {},
   "outputs": [
    {
     "data": {
      "text/plain": [
       "SVR(C=1.0, cache_size=200, coef0=0.0, degree=3, epsilon=0.1,\n",
       "  gamma='auto_deprecated', kernel='linear', max_iter=-1, shrinking=True,\n",
       "  tol=0.001, verbose=False)"
      ]
     },
     "execution_count": 12,
     "metadata": {},
     "output_type": "execute_result"
    }
   ],
   "source": [
    "# Fitting the SVR Model to the dataset\n",
    "from sklearn.svm import SVR\n",
    "\n",
    "# Create your regressor here\n",
    "regressor = SVR(kernel='linear')\n",
    "regressor.fit(X_train,y_train)\n"
   ]
  },
  {
   "cell_type": "markdown",
   "metadata": {},
   "source": [
    "In the above code we are using the `SVR` class for fitting the model. \n",
    "> SVR(\n",
    "    [\"kernel='rbf'\", 'degree=3', \"gamma='auto_deprecated'\", 'coef0=0.0', 'tol=0.001', 'C=1.0', 'epsilon=0.1', 'shrinking=True', 'cache_size=200', 'verbose=False', 'max_iter=-1'],\n",
    ")  \n",
    "\n",
    "The SVR model that we are using provides 4 types of `Kernel` - rbf, linear, poly, sigmoid. In our case, we are using `linear` since data appears to be linear based on visusalizations. Another interesting attribute is `verbose`, which when set to true will show you the default values used of other attrinutes.\n",
    "\n",
    "> **Step 5**: Predict the bike count based on test data\n"
   ]
  },
  {
   "cell_type": "code",
   "execution_count": 13,
   "metadata": {},
   "outputs": [],
   "source": [
    "# Predicting a new result\n",
    "y_pred = regressor.predict(X_test)"
   ]
  },
  {
   "cell_type": "markdown",
   "metadata": {},
   "source": [
    "> **Step 6**: Check the model effeciency"
   ]
  },
  {
   "cell_type": "code",
   "execution_count": 14,
   "metadata": {},
   "outputs": [
    {
     "name": "stdout",
     "output_type": "stream",
     "text": [
      "Train Score:  0.19926232721567205\n",
      "Test Score:  0.2082800818663224\n"
     ]
    }
   ],
   "source": [
    "print('Train Score: ', regressor.score(X_train, y_train))\n",
    "print('Test Score: ', regressor.score(X_test, y_test))"
   ]
  },
  {
   "cell_type": "markdown",
   "metadata": {},
   "source": [
    "As mentioned earlier, since the correlation is weak, we can see that our model is extremly weak. **One thing to note here is that I downloaded this random dataset from some website**. So when I was working on SVR, I was not sure if the data is true or not.\n",
    "\n",
    "Let's try the tweaking SVR model a little to see if we can do better.\n"
   ]
  },
  {
   "cell_type": "code",
   "execution_count": 15,
   "metadata": {},
   "outputs": [
    {
     "name": "stdout",
     "output_type": "stream",
     "text": [
      "Train Score:  0.25167703525198526\n",
      "Test Score:  0.2484248213345378\n"
     ]
    }
   ],
   "source": [
    "# Create your regressor here\n",
    "regressor = (SVR(kernel='poly', \n",
    "                 shrinking=True, \n",
    "                  degree=7,\n",
    "                gamma='scale',\n",
    "                 epsilon = 0.01,\n",
    "                 coef0 =1.60\n",
    "                ))\n",
    "regressor.fit(X_train,y_train)\n",
    "\n",
    "# Predicting a new result\n",
    "y_pred = regressor.predict(X_test)\n",
    "\n",
    "print('Train Score: ', regressor.score(X_train, y_train))\n",
    "print('Test Score: ', regressor.score(X_test, y_test))\n"
   ]
  },
  {
   "cell_type": "markdown",
   "metadata": {},
   "source": [
    "So after playing around with different option and values, you will see that if you use `poly` or polynomial kernel, I was able to get the model prediction upto **25.xx%**."
   ]
  }
 ],
 "metadata": {
  "kernelspec": {
   "display_name": "Python 3",
   "language": "python",
   "name": "python3"
  },
  "language_info": {
   "codemirror_mode": {
    "name": "ipython",
    "version": 3
   },
   "file_extension": ".py",
   "mimetype": "text/x-python",
   "name": "python",
   "nbconvert_exporter": "python",
   "pygments_lexer": "ipython3",
   "version": "3.7.1"
  },
  "varInspector": {
   "cols": {
    "lenName": 16,
    "lenType": 16,
    "lenVar": 40
   },
   "kernels_config": {
    "python": {
     "delete_cmd_postfix": "",
     "delete_cmd_prefix": "del ",
     "library": "var_list.py",
     "varRefreshCmd": "print(var_dic_list())"
    },
    "r": {
     "delete_cmd_postfix": ") ",
     "delete_cmd_prefix": "rm(",
     "library": "var_list.r",
     "varRefreshCmd": "cat(var_dic_list()) "
    }
   },
   "position": {
    "height": "363.85px",
    "left": "927px",
    "right": "20px",
    "top": "120px",
    "width": "331.667px"
   },
   "types_to_exclude": [
    "module",
    "function",
    "builtin_function_or_method",
    "instance",
    "_Feature"
   ],
   "window_display": false
  }
 },
 "nbformat": 4,
 "nbformat_minor": 2
}
